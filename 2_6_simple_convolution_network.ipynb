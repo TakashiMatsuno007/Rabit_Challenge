{
 "cells": [
  {
   "cell_type": "markdown",
   "metadata": {},
   "source": [
    "# simple convolution network"
   ]
  },
  {
   "cell_type": "markdown",
   "metadata": {},
   "source": [
    "## image to column"
   ]
  },
  {
   "cell_type": "code",
   "execution_count": 10,
   "metadata": {},
   "outputs": [],
   "source": [
    "import sys, os\n",
    "sys.path.append(os.pardir)\n",
    "import pickle\n",
    "import numpy as np\n",
    "from collections import OrderedDict\n",
    "from common import layers\n",
    "from common import optimizer\n",
    "from data.mnist import load_mnist\n",
    "import matplotlib.pyplot as plt\n",
    "\n",
    "# 画像データを２次元配列に変換\n",
    "'''\n",
    "input_data: 入力値\n",
    "filter_h: フィルターの高さ\n",
    "filter_w: フィルターの横幅\n",
    "stride: ストライド\n",
    "pad: パディング\n",
    "'''\n",
    "def im2col(input_data, filter_h, filter_w, stride=1, pad=0):\n",
    "    # N: number, C: channel, H: height, W: width\n",
    "    N, C, H, W = input_data.shape\n",
    "    out_h = (H + 2 * pad - filter_h)//stride + 1\n",
    "    out_w = (W + 2 * pad - filter_w)//stride + 1\n",
    "\n",
    "    img = np.pad(input_data, [(0,0), (0,0), (pad, pad), (pad, pad)], 'constant')\n",
    "    col = np.zeros((N, C, filter_h, filter_w, out_h, out_w))\n",
    "\n",
    "    for y in range(filter_h):\n",
    "        y_max = y + stride * out_h\n",
    "        for x in range(filter_w):\n",
    "            x_max = x + stride * out_w\n",
    "            col[:, :, y, x, :, :] = img[:, :, y:y_max:stride, x:x_max:stride]\n",
    "    \n",
    "    col = col.transpose(0, 4, 5, 1, 2, 3) # (N, C, filter_h, filter_w, out_h, out_w) -> (N, filter_w, out_h, out_w, C, filter_h)    \n",
    "    \n",
    "    col = col.reshape(N * out_h * out_w, -1)\n",
    "    return col"
   ]
  },
  {
   "cell_type": "code",
   "execution_count": 18,
   "metadata": {},
   "outputs": [],
   "source": [
    "# 処理イメージに合うim2colの処理\n",
    "def im2col_simple(input_data, filter_h, filter_w, stride=1, pad=0):\n",
    "    N, C, H, W = input_data.shape\n",
    "    out_h = (H + 2*pad - filter_h)//stride + 1\n",
    "    out_w = (W + 2*pad - filter_w)//stride + 1\n",
    "\n",
    "    img = np.pad(input_data, [(0,0), (0,0), (pad, pad), (pad, pad)], 'constant')\n",
    "    col = np.zeros((N, C, filter_h, filter_w, out_h, out_w))\n",
    "\n",
    "    for ys in range(out_h):\n",
    "        for xs in range(out_w):\n",
    "            for y in range(filter_h):\n",
    "                for x in range(filter_w):\n",
    "                    col[:, :, y, x, ys, xs] = img[:, :, y + stride * ys, x + stride * xs]\n",
    "\n",
    "    col = col.transpose(0, 4, 5, 1, 2, 3).reshape(N*out_h*out_w, -1)\n",
    "    return col\n"
   ]
  },
  {
   "cell_type": "markdown",
   "metadata": {},
   "source": [
    "----------------------------------------------------------------------------------------------------------------------------------------------------------------------------\n",
    "## [try] im2colの処理を確認しよう\n",
    "・関数内でtransposeの処理をしている行をコメントアウトして下のコードを実行してみよう<br>\n",
    "・input_dataの各次元のサイズやフィルターサイズ・ストライド・パディングを変えてみよう\n",
    "\n",
    "----------------------------------------------------------------------------------------------------------------------------------------------------------------------------"
   ]
  },
  {
   "cell_type": "code",
   "execution_count": 16,
   "metadata": {},
   "outputs": [
    {
     "output_type": "stream",
     "name": "stdout",
     "text": "========== input_data ===========\n [[[[48. 42.  1. 72.]\n   [11. 44. 43. 70.]\n   [81. 98. 50. 44.]\n   [72. 85.  8. 74.]]]\n\n\n [[[99.  6. 36. 66.]\n   [35. 75. 27. 32.]\n   [26. 75. 15. 88.]\n   [95. 44. 24. 92.]]]]\n==============================\n============= col ==============\n [[48. 42.  1. 11. 44. 43. 81. 98. 50.]\n [42.  1. 72. 44. 43. 70. 98. 50. 44.]\n [11. 44. 43. 81. 98. 50. 72. 85.  8.]\n [44. 43. 70. 98. 50. 44. 85.  8. 74.]\n [99.  6. 36. 35. 75. 27. 26. 75. 15.]\n [ 6. 36. 66. 75. 27. 32. 75. 15. 88.]\n [35. 75. 27. 26. 75. 15. 95. 44. 24.]\n [75. 27. 32. 75. 15. 88. 44. 24. 92.]]\n==============================\n"
    }
   ],
   "source": [
    "# im2colの処理確認\n",
    "input_data = np.random.rand(2, 1, 4, 4)*100//1 # number, channel, height, widthを表す\n",
    "print('========== input_data ===========\\n', input_data)\n",
    "print('==============================')\n",
    "filter_h = 3\n",
    "filter_w = 3\n",
    "stride = 1\n",
    "pad = 0\n",
    "col = im2col(input_data, filter_h=filter_h, filter_w=filter_w, stride=stride, pad=pad)\n",
    "print('============= col ==============\\n', col)\n",
    "print('==============================')"
   ]
  },
  {
   "cell_type": "code",
   "execution_count": 19,
   "metadata": {},
   "outputs": [
    {
     "output_type": "stream",
     "name": "stdout",
     "text": "============= col ==============\n [[48. 42.  1. 11. 44. 43. 81. 98. 50.]\n [42.  1. 72. 44. 43. 70. 98. 50. 44.]\n [11. 44. 43. 81. 98. 50. 72. 85.  8.]\n [44. 43. 70. 98. 50. 44. 85.  8. 74.]\n [99.  6. 36. 35. 75. 27. 26. 75. 15.]\n [ 6. 36. 66. 75. 27. 32. 75. 15. 88.]\n [35. 75. 27. 26. 75. 15. 95. 44. 24.]\n [75. 27. 32. 75. 15. 88. 44. 24. 92.]]\n==============================\n"
    }
   ],
   "source": [
    "# im2colの処理確認（２）\n",
    "col = im2col_simple(input_data, filter_h=filter_h, filter_w=filter_w, stride=stride, pad=pad)\n",
    "print('============= col ==============\\n', col)\n",
    "print('==============================')"
   ]
  },
  {
   "cell_type": "markdown",
   "metadata": {},
   "source": [
    "## column to image"
   ]
  },
  {
   "cell_type": "code",
   "execution_count": 12,
   "metadata": {},
   "outputs": [],
   "source": [
    "# ２次元配列を画像データに変換\n",
    "def col2im(col, input_shape, filter_h, filter_w, stride=1, pad=0):\n",
    "    # N: number, C: channel, H: height, W: width\n",
    "    N, C, H, W = input_shape\n",
    "    # 切り捨て除算    \n",
    "    out_h = (H + 2 * pad - filter_h)//stride + 1\n",
    "    out_w = (W + 2 * pad - filter_w)//stride + 1\n",
    "    col = col.reshape(N, out_h, out_w, C, filter_h, filter_w).transpose(0, 3, 4, 5, 1, 2) # (N, filter_h, filter_w, out_h, out_w, C)\n",
    "\n",
    "    img = np.zeros((N, C, H + 2 * pad + stride - 1, W + 2 * pad + stride - 1))\n",
    "    for y in range(filter_h):\n",
    "        y_max = y + stride * out_h\n",
    "        for x in range(filter_w):\n",
    "            x_max = x + stride * out_w\n",
    "            img[:, :, y:y_max:stride, x:x_max:stride] += col[:, :, y, x, :, :]\n",
    "\n",
    "    return img[:, :, pad:H + pad, pad:W + pad]"
   ]
  },
  {
   "cell_type": "markdown",
   "metadata": {},
   "source": [
    "## col2imの処理を確認しよう\n",
    "・im2colの確認で出力したcolをimageに変換して確認しよう"
   ]
  },
  {
   "cell_type": "code",
   "execution_count": 13,
   "metadata": {},
   "outputs": [
    {
     "output_type": "stream",
     "name": "stdout",
     "text": "============= img ==============\n [[[[ 79. 152. 134.  54.]\n   [128. 184. 188.  18.]\n   [  8. 220.  76.  10.]\n   [ 13. 192. 192.  77.]]]\n\n\n [[[ 50. 106. 186.   7.]\n   [ 50. 284. 172. 176.]\n   [194.  32. 356. 156.]\n   [ 87.  30.  34.  59.]]]]\n==============================\n"
    }
   ],
   "source": [
    "img = col2im(col, input_shape=input_data.shape, filter_h=filter_h, \n",
    "                                                filter_w=filter_w, stride=stride, pad=pad)\n",
    "print('============= img ==============\\n', img)\n",
    "print('==============================')"
   ]
  },
  {
   "cell_type": "markdown",
   "metadata": {},
   "source": [
    "## convolution class"
   ]
  },
  {
   "cell_type": "code",
   "execution_count": 4,
   "metadata": {},
   "outputs": [],
   "source": [
    "class Convolution:\n",
    "    # W: フィルター, b: バイアス\n",
    "    def __init__(self, W, b, stride=1, pad=0):\n",
    "        self.W = W\n",
    "        self.b = b\n",
    "        self.stride = stride\n",
    "        self.pad = pad\n",
    "        \n",
    "        # 中間データ（backward時に使用）\n",
    "        self.x = None   \n",
    "        self.col = None\n",
    "        self.col_W = None\n",
    "        \n",
    "        # フィルター・バイアスパラメータの勾配\n",
    "        self.dW = None\n",
    "        self.db = None\n",
    "\n",
    "    def forward(self, x):\n",
    "        # FN: filter_number, C: channel, FH: filter_height, FW: filter_width\n",
    "        FN, C, FH, FW = self.W.shape\n",
    "        N, C, H, W = x.shape\n",
    "        # 出力値のheight, width\n",
    "        out_h = 1 + int((H + 2 * self.pad - FH) / self.stride)\n",
    "        out_w = 1 + int((W + 2 * self.pad - FW) / self.stride)\n",
    "        \n",
    "        # xを行列に変換\n",
    "        col = im2col(x, FH, FW, self.stride, self.pad)\n",
    "        # フィルターをxに合わせた行列に変換\n",
    "        col_W = self.W.reshape(FN, -1).T\n",
    "\n",
    "        out = np.dot(col, col_W) + self.b\n",
    "        # 計算のために変えた形式を戻す\n",
    "        out = out.reshape(N, out_h, out_w, -1).transpose(0, 3, 1, 2)\n",
    "\n",
    "        self.x = x\n",
    "        self.col = col\n",
    "        self.col_W = col_W\n",
    "\n",
    "        return out\n",
    "\n",
    "    def backward(self, dout):\n",
    "        FN, C, FH, FW = self.W.shape\n",
    "        dout = dout.transpose(0, 2, 3, 1).reshape(-1, FN)\n",
    "\n",
    "        self.db = np.sum(dout, axis=0)\n",
    "        self.dW = np.dot(self.col.T, dout)\n",
    "        self.dW = self.dW.transpose(1, 0).reshape(FN, C, FH, FW)\n",
    "\n",
    "        dcol = np.dot(dout, self.col_W.T)\n",
    "        # dcolを画像データに変換\n",
    "        dx = col2im(dcol, self.x.shape, FH, FW, self.stride, self.pad)\n",
    "\n",
    "        return dx\n"
   ]
  },
  {
   "cell_type": "markdown",
   "metadata": {},
   "source": [
    "## pooling class"
   ]
  },
  {
   "cell_type": "code",
   "execution_count": 5,
   "metadata": {},
   "outputs": [],
   "source": [
    "class Pooling:\n",
    "    def __init__(self, pool_h, pool_w, stride=1, pad=0):\n",
    "        self.pool_h = pool_h\n",
    "        self.pool_w = pool_w\n",
    "        self.stride = stride\n",
    "        self.pad = pad\n",
    "        \n",
    "        self.x = None\n",
    "        self.arg_max = None\n",
    "\n",
    "    def forward(self, x):\n",
    "        N, C, H, W = x.shape\n",
    "        out_h = int(1 + (H - self.pool_h) / self.stride)\n",
    "        out_w = int(1 + (W - self.pool_w) / self.stride)\n",
    "        \n",
    "        # xを行列に変換\n",
    "        col = im2col(x, self.pool_h, self.pool_w, self.stride, self.pad)\n",
    "        # プーリングのサイズに合わせてリサイズ\n",
    "        col = col.reshape(-1, self.pool_h*self.pool_w)\n",
    "        \n",
    "        # 行ごとに最大値を求める\n",
    "        arg_max = np.argmax(col, axis=1)\n",
    "        out = np.max(col, axis=1)\n",
    "        # 整形\n",
    "        out = out.reshape(N, out_h, out_w, C).transpose(0, 3, 1, 2)\n",
    "\n",
    "        self.x = x\n",
    "        self.arg_max = arg_max\n",
    "\n",
    "        return out\n",
    "\n",
    "    def backward(self, dout):\n",
    "        dout = dout.transpose(0, 2, 3, 1)\n",
    "        \n",
    "        pool_size = self.pool_h * self.pool_w\n",
    "        dmax = np.zeros((dout.size, pool_size))\n",
    "        dmax[np.arange(self.arg_max.size), self.arg_max.flatten()] = dout.flatten()\n",
    "        dmax = dmax.reshape(dout.shape + (pool_size,)) \n",
    "        \n",
    "        dcol = dmax.reshape(dmax.shape[0] * dmax.shape[1] * dmax.shape[2], -1)\n",
    "        dx = col2im(dcol, self.x.shape, self.pool_h, self.pool_w, self.stride, self.pad)\n",
    "        \n",
    "        return dx\n"
   ]
  },
  {
   "cell_type": "markdown",
   "metadata": {},
   "source": [
    "## simple convolution network class"
   ]
  },
  {
   "cell_type": "code",
   "execution_count": 6,
   "metadata": {},
   "outputs": [],
   "source": [
    "class SimpleConvNet:\n",
    "    # conv - relu - pool - affine - relu - affine - softmax\n",
    "    def __init__(self, input_dim=(1, 28, 28), \n",
    "                 conv_param={'filter_num':30, 'filter_size':5, 'pad':0, 'stride':1},\n",
    "                 hidden_size=100, output_size=10, weight_init_std=0.01):\n",
    "        filter_num = conv_param['filter_num']        \n",
    "        filter_size = conv_param['filter_size']\n",
    "        filter_pad = conv_param['pad']\n",
    "        filter_stride = conv_param['stride']\n",
    "        input_size = input_dim[1]\n",
    "        conv_output_size = (input_size - filter_size + 2 * filter_pad) / filter_stride + 1\n",
    "        pool_output_size = int(filter_num * (conv_output_size / 2) * (conv_output_size / 2))\n",
    "\n",
    "        # 重みの初期化\n",
    "        self.params = {}\n",
    "        self.params['W1'] = weight_init_std * np.random.randn\n",
    "                            (filter_num, input_dim[0], filter_size, filter_size)\n",
    "        self.params['b1'] = np.zeros(filter_num)\n",
    "        self.params['W2'] = weight_init_std * np.random.randn(pool_output_size, hidden_size)\n",
    "        self.params['b2'] = np.zeros(hidden_size)\n",
    "        self.params['W3'] = weight_init_std * np.random.randn(hidden_size, output_size)\n",
    "        self.params['b3'] = np.zeros(output_size)\n",
    "\n",
    "        # レイヤの生成\n",
    "        self.layers = OrderedDict()\n",
    "        self.layers['Conv1'] = layers.Convolution(self.params['W1'], self.params['b1'], \n",
    "                                                conv_param['stride'], conv_param['pad'])\n",
    "        self.layers['Relu1'] = layers.Relu()\n",
    "        self.layers['Pool1'] = layers.Pooling(pool_h=2, pool_w=2, stride=2)\n",
    "        self.layers['Affine1'] = layers.Affine(self.params['W2'], self.params['b2'])\n",
    "        self.layers['Relu2'] = layers.Relu()\n",
    "        self.layers['Affine2'] = layers.Affine(self.params['W3'], self.params['b3'])\n",
    "\n",
    "        self.last_layer = layers.SoftmaxWithLoss()\n",
    "\n",
    "    def predict(self, x):\n",
    "        for key in self.layers.keys():\n",
    "            x = self.layers[key].forward(x)\n",
    "        return x\n",
    "        \n",
    "    def loss(self, x, d):\n",
    "        y = self.predict(x)\n",
    "        return self.last_layer.forward(y, d)\n",
    "\n",
    "    def accuracy(self, x, d, batch_size=100):\n",
    "        if d.ndim != 1 : d = np.argmax(d, axis=1)\n",
    "        \n",
    "        acc = 0.0\n",
    "        \n",
    "        for i in range(int(x.shape[0] / batch_size)):\n",
    "            tx = x[i*batch_size:(i+1)*batch_size]\n",
    "            td = d[i*batch_size:(i+1)*batch_size]\n",
    "            y = self.predict(tx)\n",
    "            y = np.argmax(y, axis=1)\n",
    "            acc += np.sum(y == td) \n",
    "        \n",
    "        return acc / x.shape[0]\n",
    "\n",
    "    def gradient(self, x, d):\n",
    "        # forward\n",
    "        self.loss(x, d)\n",
    "        \n",
    "        # backward\n",
    "        dout = 1\n",
    "        dout = self.last_layer.backward(dout)\n",
    "        layers = list(self.layers.values())\n",
    "        \n",
    "        layers.reverse()\n",
    "        for layer in layers:\n",
    "            dout = layer.backward(dout)\n",
    "\n",
    "        # 設定\n",
    "        grad = {}\n",
    "        grad['W1'], grad['b1'] = self.layers['Conv1'].dW, self.layers['Conv1'].db\n",
    "        grad['W2'], grad['b2'] = self.layers['Affine1'].dW, self.layers['Affine1'].db\n",
    "        grad['W3'], grad['b3'] = self.layers['Affine2'].dW, self.layers['Affine2'].db\n",
    "\n",
    "        return grad"
   ]
  },
  {
   "cell_type": "code",
   "execution_count": 7,
   "metadata": {},
   "outputs": [
    {
     "output_type": "stream",
     "name": "stdout",
     "text": "データ読み込み完了\nGeneration: 10. 正答率(トレーニング) = 0.2112\n                : 10. 正答率(テスト) = 0.233\nGeneration: 20. 正答率(トレーニング) = 0.6302\n                : 20. 正答率(テスト) = 0.609\nGeneration: 30. 正答率(トレーニング) = 0.7468\n                : 30. 正答率(テスト) = 0.697\nGeneration: 40. 正答率(トレーニング) = 0.7858\n                : 40. 正答率(テスト) = 0.741\nGeneration: 50. 正答率(トレーニング) = 0.8298\n                : 50. 正答率(テスト) = 0.796\nGeneration: 60. 正答率(トレーニング) = 0.8536\n                : 60. 正答率(テスト) = 0.823\nGeneration: 70. 正答率(トレーニング) = 0.8586\n                : 70. 正答率(テスト) = 0.829\nGeneration: 80. 正答率(トレーニング) = 0.8758\n                : 80. 正答率(テスト) = 0.855\nGeneration: 90. 正答率(トレーニング) = 0.8824\n                : 90. 正答率(テスト) = 0.858\nGeneration: 100. 正答率(トレーニング) = 0.8894\n                : 100. 正答率(テスト) = 0.865\nGeneration: 110. 正答率(トレーニング) = 0.8926\n                : 110. 正答率(テスト) = 0.87\nGeneration: 120. 正答率(トレーニング) = 0.899\n                : 120. 正答率(テスト) = 0.877\nGeneration: 130. 正答率(トレーニング) = 0.9008\n                : 130. 正答率(テスト) = 0.872\nGeneration: 140. 正答率(トレーニング) = 0.9076\n                : 140. 正答率(テスト) = 0.873\nGeneration: 150. 正答率(トレーニング) = 0.895\n                : 150. 正答率(テスト) = 0.87\nGeneration: 160. 正答率(トレーニング) = 0.9056\n                : 160. 正答率(テスト) = 0.875\nGeneration: 170. 正答率(トレーニング) = 0.9186\n                : 170. 正答率(テスト) = 0.884\nGeneration: 180. 正答率(トレーニング) = 0.9096\n                : 180. 正答率(テスト) = 0.873\nGeneration: 190. 正答率(トレーニング) = 0.9014\n                : 190. 正答率(テスト) = 0.877\nGeneration: 200. 正答率(トレーニング) = 0.9222\n                : 200. 正答率(テスト) = 0.878\nGeneration: 210. 正答率(トレーニング) = 0.9084\n                : 210. 正答率(テスト) = 0.874\nGeneration: 220. 正答率(トレーニング) = 0.9272\n                : 220. 正答率(テスト) = 0.894\nGeneration: 230. 正答率(トレーニング) = 0.9248\n                : 230. 正答率(テスト) = 0.888\nGeneration: 240. 正答率(トレーニング) = 0.9356\n                : 240. 正答率(テスト) = 0.903\nGeneration: 250. 正答率(トレーニング) = 0.931\n                : 250. 正答率(テスト) = 0.895\nGeneration: 260. 正答率(トレーニング) = 0.9122\n                : 260. 正答率(テスト) = 0.887\nGeneration: 270. 正答率(トレーニング) = 0.9212\n                : 270. 正答率(テスト) = 0.89\nGeneration: 280. 正答率(トレーニング) = 0.9302\n                : 280. 正答率(テスト) = 0.897\nGeneration: 290. 正答率(トレーニング) = 0.9368\n                : 290. 正答率(テスト) = 0.911\nGeneration: 300. 正答率(トレーニング) = 0.935\n                : 300. 正答率(テスト) = 0.907\nGeneration: 310. 正答率(トレーニング) = 0.9406\n                : 310. 正答率(テスト) = 0.917\nGeneration: 320. 正答率(トレーニング) = 0.9428\n                : 320. 正答率(テスト) = 0.919\nGeneration: 330. 正答率(トレーニング) = 0.9484\n                : 330. 正答率(テスト) = 0.918\nGeneration: 340. 正答率(トレーニング) = 0.9508\n                : 340. 正答率(テスト) = 0.923\nGeneration: 350. 正答率(トレーニング) = 0.953\n                : 350. 正答率(テスト) = 0.916\nGeneration: 360. 正答率(トレーニング) = 0.9546\n                : 360. 正答率(テスト) = 0.92\nGeneration: 370. 正答率(トレーニング) = 0.9556\n                : 370. 正答率(テスト) = 0.919\nGeneration: 380. 正答率(トレーニング) = 0.9586\n                : 380. 正答率(テスト) = 0.924\nGeneration: 390. 正答率(トレーニング) = 0.9596\n                : 390. 正答率(テスト) = 0.923\nGeneration: 400. 正答率(トレーニング) = 0.9594\n                : 400. 正答率(テスト) = 0.928\nGeneration: 410. 正答率(トレーニング) = 0.9628\n                : 410. 正答率(テスト) = 0.927\nGeneration: 420. 正答率(トレーニング) = 0.9644\n                : 420. 正答率(テスト) = 0.927\nGeneration: 430. 正答率(トレーニング) = 0.964\n                : 430. 正答率(テスト) = 0.93\nGeneration: 440. 正答率(トレーニング) = 0.9614\n                : 440. 正答率(テスト) = 0.925\nGeneration: 450. 正答率(トレーニング) = 0.955\n                : 450. 正答率(テスト) = 0.915\nGeneration: 460. 正答率(トレーニング) = 0.9642\n                : 460. 正答率(テスト) = 0.929\nGeneration: 470. 正答率(トレーニング) = 0.9684\n                : 470. 正答率(テスト) = 0.932\nGeneration: 480. 正答率(トレーニング) = 0.9668\n                : 480. 正答率(テスト) = 0.931\nGeneration: 490. 正答率(トレーニング) = 0.9644\n                : 490. 正答率(テスト) = 0.927\nGeneration: 500. 正答率(トレーニング) = 0.9668\n                : 500. 正答率(テスト) = 0.932\nGeneration: 510. 正答率(トレーニング) = 0.9694\n                : 510. 正答率(テスト) = 0.932\nGeneration: 520. 正答率(トレーニング) = 0.9674\n                : 520. 正答率(テスト) = 0.932\nGeneration: 530. 正答率(トレーニング) = 0.9746\n                : 530. 正答率(テスト) = 0.943\nGeneration: 540. 正答率(トレーニング) = 0.977\n                : 540. 正答率(テスト) = 0.936\nGeneration: 550. 正答率(トレーニング) = 0.9762\n                : 550. 正答率(テスト) = 0.944\nGeneration: 560. 正答率(トレーニング) = 0.9784\n                : 560. 正答率(テスト) = 0.947\nGeneration: 570. 正答率(トレーニング) = 0.9776\n                : 570. 正答率(テスト) = 0.94\nGeneration: 580. 正答率(トレーニング) = 0.9788\n                : 580. 正答率(テスト) = 0.942\nGeneration: 590. 正答率(トレーニング) = 0.976\n                : 590. 正答率(テスト) = 0.947\nGeneration: 600. 正答率(トレーニング) = 0.9812\n                : 600. 正答率(テスト) = 0.941\nGeneration: 610. 正答率(トレーニング) = 0.9784\n                : 610. 正答率(テスト) = 0.944\nGeneration: 620. 正答率(トレーニング) = 0.98\n                : 620. 正答率(テスト) = 0.948\nGeneration: 630. 正答率(トレーニング) = 0.982\n                : 630. 正答率(テスト) = 0.95\nGeneration: 640. 正答率(トレーニング) = 0.9834\n                : 640. 正答率(テスト) = 0.953\nGeneration: 650. 正答率(トレーニング) = 0.9834\n                : 650. 正答率(テスト) = 0.949\nGeneration: 660. 正答率(トレーニング) = 0.983\n                : 660. 正答率(テスト) = 0.951\nGeneration: 670. 正答率(トレーニング) = 0.9816\n                : 670. 正答率(テスト) = 0.949\nGeneration: 680. 正答率(トレーニング) = 0.9852\n                : 680. 正答率(テスト) = 0.947\nGeneration: 690. 正答率(トレーニング) = 0.9856\n                : 690. 正答率(テスト) = 0.949\nGeneration: 700. 正答率(トレーニング) = 0.985\n                : 700. 正答率(テスト) = 0.951\nGeneration: 710. 正答率(トレーニング) = 0.9868\n                : 710. 正答率(テスト) = 0.955\nGeneration: 720. 正答率(トレーニング) = 0.9832\n                : 720. 正答率(テスト) = 0.946\nGeneration: 730. 正答率(トレーニング) = 0.9834\n                : 730. 正答率(テスト) = 0.945\nGeneration: 740. 正答率(トレーニング) = 0.9854\n                : 740. 正答率(テスト) = 0.953\nGeneration: 750. 正答率(トレーニング) = 0.9882\n                : 750. 正答率(テスト) = 0.953\nGeneration: 760. 正答率(トレーニング) = 0.9864\n                : 760. 正答率(テスト) = 0.95\nGeneration: 770. 正答率(トレーニング) = 0.9894\n                : 770. 正答率(テスト) = 0.957\nGeneration: 780. 正答率(トレーニング) = 0.99\n                : 780. 正答率(テスト) = 0.956\nGeneration: 790. 正答率(トレーニング) = 0.9898\n                : 790. 正答率(テスト) = 0.957\nGeneration: 800. 正答率(トレーニング) = 0.991\n                : 800. 正答率(テスト) = 0.956\nGeneration: 810. 正答率(トレーニング) = 0.9888\n                : 810. 正答率(テスト) = 0.952\nGeneration: 820. 正答率(トレーニング) = 0.9902\n                : 820. 正答率(テスト) = 0.954\nGeneration: 830. 正答率(トレーニング) = 0.9922\n                : 830. 正答率(テスト) = 0.954\nGeneration: 840. 正答率(トレーニング) = 0.9932\n                : 840. 正答率(テスト) = 0.956\nGeneration: 850. 正答率(トレーニング) = 0.9912\n                : 850. 正答率(テスト) = 0.951\nGeneration: 860. 正答率(トレーニング) = 0.993\n                : 860. 正答率(テスト) = 0.96\nGeneration: 870. 正答率(トレーニング) = 0.9912\n                : 870. 正答率(テスト) = 0.958\nGeneration: 880. 正答率(トレーニング) = 0.9936\n                : 880. 正答率(テスト) = 0.956\nGeneration: 890. 正答率(トレーニング) = 0.9938\n                : 890. 正答率(テスト) = 0.955\nGeneration: 900. 正答率(トレーニング) = 0.9914\n                : 900. 正答率(テスト) = 0.961\nGeneration: 910. 正答率(トレーニング) = 0.99\n                : 910. 正答率(テスト) = 0.956\nGeneration: 920. 正答率(トレーニング) = 0.9858\n                : 920. 正答率(テスト) = 0.953\nGeneration: 930. 正答率(トレーニング) = 0.99\n                : 930. 正答率(テスト) = 0.962\nGeneration: 940. 正答率(トレーニング) = 0.9934\n                : 940. 正答率(テスト) = 0.954\nGeneration: 950. 正答率(トレーニング) = 0.9926\n                : 950. 正答率(テスト) = 0.961\nGeneration: 960. 正答率(トレーニング) = 0.9934\n                : 960. 正答率(テスト) = 0.951\nGeneration: 970. 正答率(トレーニング) = 0.9942\n                : 970. 正答率(テスト) = 0.957\nGeneration: 980. 正答率(トレーニング) = 0.995\n                : 980. 正答率(テスト) = 0.957\nGeneration: 990. 正答率(トレーニング) = 0.995\n                : 990. 正答率(テスト) = 0.957\nGeneration: 1000. 正答率(トレーニング) = 0.9928\n                : 1000. 正答率(テスト) = 0.959\n"
    },
    {
     "output_type": "display_data",
     "data": {
      "text/plain": "<Figure size 432x288 with 1 Axes>",
      "image/svg+xml": "<?xml version=\"1.0\" encoding=\"utf-8\" standalone=\"no\"?>\r\n<!DOCTYPE svg PUBLIC \"-//W3C//DTD SVG 1.1//EN\"\r\n  \"http://www.w3.org/Graphics/SVG/1.1/DTD/svg11.dtd\">\r\n<!-- Created with matplotlib (https://matplotlib.org/) -->\r\n<svg height=\"277.314375pt\" version=\"1.1\" viewBox=\"0 0 386.362448 277.314375\" width=\"386.362448pt\" xmlns=\"http://www.w3.org/2000/svg\" xmlns:xlink=\"http://www.w3.org/1999/xlink\">\r\n <defs>\r\n  <style type=\"text/css\">\r\n*{stroke-linecap:butt;stroke-linejoin:round;}\r\n  </style>\r\n </defs>\r\n <g id=\"figure_1\">\r\n  <g id=\"patch_1\">\r\n   <path d=\"M 0 277.314375 \r\nL 386.362448 277.314375 \r\nL 386.362448 0 \r\nL 0 0 \r\nz\r\n\" style=\"fill:none;\"/>\r\n  </g>\r\n  <g id=\"axes_1\">\r\n   <g id=\"patch_2\">\r\n    <path d=\"M 43.78125 239.758125 \r\nL 378.58125 239.758125 \r\nL 378.58125 22.318125 \r\nL 43.78125 22.318125 \r\nz\r\n\" style=\"fill:#ffffff;\"/>\r\n   </g>\r\n   <g id=\"matplotlib.axis_1\">\r\n    <g id=\"xtick_1\">\r\n     <g id=\"line2d_1\">\r\n      <defs>\r\n       <path d=\"M 0 0 \r\nL 0 3.5 \r\n\" id=\"m6406a2cfce\" style=\"stroke:#000000;stroke-width:0.8;\"/>\r\n      </defs>\r\n      <g>\r\n       <use style=\"stroke:#000000;stroke-width:0.8;\" x=\"58.999432\" xlink:href=\"#m6406a2cfce\" y=\"239.758125\"/>\r\n      </g>\r\n     </g>\r\n     <g id=\"text_1\">\r\n      <!-- 0 -->\r\n      <defs>\r\n       <path d=\"M 31.78125 66.40625 \r\nQ 24.171875 66.40625 20.328125 58.90625 \r\nQ 16.5 51.421875 16.5 36.375 \r\nQ 16.5 21.390625 20.328125 13.890625 \r\nQ 24.171875 6.390625 31.78125 6.390625 \r\nQ 39.453125 6.390625 43.28125 13.890625 \r\nQ 47.125 21.390625 47.125 36.375 \r\nQ 47.125 51.421875 43.28125 58.90625 \r\nQ 39.453125 66.40625 31.78125 66.40625 \r\nz\r\nM 31.78125 74.21875 \r\nQ 44.046875 74.21875 50.515625 64.515625 \r\nQ 56.984375 54.828125 56.984375 36.375 \r\nQ 56.984375 17.96875 50.515625 8.265625 \r\nQ 44.046875 -1.421875 31.78125 -1.421875 \r\nQ 19.53125 -1.421875 13.0625 8.265625 \r\nQ 6.59375 17.96875 6.59375 36.375 \r\nQ 6.59375 54.828125 13.0625 64.515625 \r\nQ 19.53125 74.21875 31.78125 74.21875 \r\nz\r\n\" id=\"DejaVuSans-48\"/>\r\n      </defs>\r\n      <g transform=\"translate(55.818182 254.356562)scale(0.1 -0.1)\">\r\n       <use xlink:href=\"#DejaVuSans-48\"/>\r\n      </g>\r\n     </g>\r\n    </g>\r\n    <g id=\"xtick_2\">\r\n     <g id=\"line2d_2\">\r\n      <g>\r\n       <use style=\"stroke:#000000;stroke-width:0.8;\" x=\"120.487035\" xlink:href=\"#m6406a2cfce\" y=\"239.758125\"/>\r\n      </g>\r\n     </g>\r\n     <g id=\"text_2\">\r\n      <!-- 200 -->\r\n      <defs>\r\n       <path d=\"M 19.1875 8.296875 \r\nL 53.609375 8.296875 \r\nL 53.609375 0 \r\nL 7.328125 0 \r\nL 7.328125 8.296875 \r\nQ 12.9375 14.109375 22.625 23.890625 \r\nQ 32.328125 33.6875 34.8125 36.53125 \r\nQ 39.546875 41.84375 41.421875 45.53125 \r\nQ 43.3125 49.21875 43.3125 52.78125 \r\nQ 43.3125 58.59375 39.234375 62.25 \r\nQ 35.15625 65.921875 28.609375 65.921875 \r\nQ 23.96875 65.921875 18.8125 64.3125 \r\nQ 13.671875 62.703125 7.8125 59.421875 \r\nL 7.8125 69.390625 \r\nQ 13.765625 71.78125 18.9375 73 \r\nQ 24.125 74.21875 28.421875 74.21875 \r\nQ 39.75 74.21875 46.484375 68.546875 \r\nQ 53.21875 62.890625 53.21875 53.421875 \r\nQ 53.21875 48.921875 51.53125 44.890625 \r\nQ 49.859375 40.875 45.40625 35.40625 \r\nQ 44.1875 33.984375 37.640625 27.21875 \r\nQ 31.109375 20.453125 19.1875 8.296875 \r\nz\r\n\" id=\"DejaVuSans-50\"/>\r\n      </defs>\r\n      <g transform=\"translate(110.943285 254.356562)scale(0.1 -0.1)\">\r\n       <use xlink:href=\"#DejaVuSans-50\"/>\r\n       <use x=\"63.623047\" xlink:href=\"#DejaVuSans-48\"/>\r\n       <use x=\"127.246094\" xlink:href=\"#DejaVuSans-48\"/>\r\n      </g>\r\n     </g>\r\n    </g>\r\n    <g id=\"xtick_3\">\r\n     <g id=\"line2d_3\">\r\n      <g>\r\n       <use style=\"stroke:#000000;stroke-width:0.8;\" x=\"181.974638\" xlink:href=\"#m6406a2cfce\" y=\"239.758125\"/>\r\n      </g>\r\n     </g>\r\n     <g id=\"text_3\">\r\n      <!-- 400 -->\r\n      <defs>\r\n       <path d=\"M 37.796875 64.3125 \r\nL 12.890625 25.390625 \r\nL 37.796875 25.390625 \r\nz\r\nM 35.203125 72.90625 \r\nL 47.609375 72.90625 \r\nL 47.609375 25.390625 \r\nL 58.015625 25.390625 \r\nL 58.015625 17.1875 \r\nL 47.609375 17.1875 \r\nL 47.609375 0 \r\nL 37.796875 0 \r\nL 37.796875 17.1875 \r\nL 4.890625 17.1875 \r\nL 4.890625 26.703125 \r\nz\r\n\" id=\"DejaVuSans-52\"/>\r\n      </defs>\r\n      <g transform=\"translate(172.430888 254.356562)scale(0.1 -0.1)\">\r\n       <use xlink:href=\"#DejaVuSans-52\"/>\r\n       <use x=\"63.623047\" xlink:href=\"#DejaVuSans-48\"/>\r\n       <use x=\"127.246094\" xlink:href=\"#DejaVuSans-48\"/>\r\n      </g>\r\n     </g>\r\n    </g>\r\n    <g id=\"xtick_4\">\r\n     <g id=\"line2d_4\">\r\n      <g>\r\n       <use style=\"stroke:#000000;stroke-width:0.8;\" x=\"243.462242\" xlink:href=\"#m6406a2cfce\" y=\"239.758125\"/>\r\n      </g>\r\n     </g>\r\n     <g id=\"text_4\">\r\n      <!-- 600 -->\r\n      <defs>\r\n       <path d=\"M 33.015625 40.375 \r\nQ 26.375 40.375 22.484375 35.828125 \r\nQ 18.609375 31.296875 18.609375 23.390625 \r\nQ 18.609375 15.53125 22.484375 10.953125 \r\nQ 26.375 6.390625 33.015625 6.390625 \r\nQ 39.65625 6.390625 43.53125 10.953125 \r\nQ 47.40625 15.53125 47.40625 23.390625 \r\nQ 47.40625 31.296875 43.53125 35.828125 \r\nQ 39.65625 40.375 33.015625 40.375 \r\nz\r\nM 52.59375 71.296875 \r\nL 52.59375 62.3125 \r\nQ 48.875 64.0625 45.09375 64.984375 \r\nQ 41.3125 65.921875 37.59375 65.921875 \r\nQ 27.828125 65.921875 22.671875 59.328125 \r\nQ 17.53125 52.734375 16.796875 39.40625 \r\nQ 19.671875 43.65625 24.015625 45.921875 \r\nQ 28.375 48.1875 33.59375 48.1875 \r\nQ 44.578125 48.1875 50.953125 41.515625 \r\nQ 57.328125 34.859375 57.328125 23.390625 \r\nQ 57.328125 12.15625 50.6875 5.359375 \r\nQ 44.046875 -1.421875 33.015625 -1.421875 \r\nQ 20.359375 -1.421875 13.671875 8.265625 \r\nQ 6.984375 17.96875 6.984375 36.375 \r\nQ 6.984375 53.65625 15.1875 63.9375 \r\nQ 23.390625 74.21875 37.203125 74.21875 \r\nQ 40.921875 74.21875 44.703125 73.484375 \r\nQ 48.484375 72.75 52.59375 71.296875 \r\nz\r\n\" id=\"DejaVuSans-54\"/>\r\n      </defs>\r\n      <g transform=\"translate(233.918492 254.356562)scale(0.1 -0.1)\">\r\n       <use xlink:href=\"#DejaVuSans-54\"/>\r\n       <use x=\"63.623047\" xlink:href=\"#DejaVuSans-48\"/>\r\n       <use x=\"127.246094\" xlink:href=\"#DejaVuSans-48\"/>\r\n      </g>\r\n     </g>\r\n    </g>\r\n    <g id=\"xtick_5\">\r\n     <g id=\"line2d_5\">\r\n      <g>\r\n       <use style=\"stroke:#000000;stroke-width:0.8;\" x=\"304.949845\" xlink:href=\"#m6406a2cfce\" y=\"239.758125\"/>\r\n      </g>\r\n     </g>\r\n     <g id=\"text_5\">\r\n      <!-- 800 -->\r\n      <defs>\r\n       <path d=\"M 31.78125 34.625 \r\nQ 24.75 34.625 20.71875 30.859375 \r\nQ 16.703125 27.09375 16.703125 20.515625 \r\nQ 16.703125 13.921875 20.71875 10.15625 \r\nQ 24.75 6.390625 31.78125 6.390625 \r\nQ 38.8125 6.390625 42.859375 10.171875 \r\nQ 46.921875 13.96875 46.921875 20.515625 \r\nQ 46.921875 27.09375 42.890625 30.859375 \r\nQ 38.875 34.625 31.78125 34.625 \r\nz\r\nM 21.921875 38.8125 \r\nQ 15.578125 40.375 12.03125 44.71875 \r\nQ 8.5 49.078125 8.5 55.328125 \r\nQ 8.5 64.0625 14.71875 69.140625 \r\nQ 20.953125 74.21875 31.78125 74.21875 \r\nQ 42.671875 74.21875 48.875 69.140625 \r\nQ 55.078125 64.0625 55.078125 55.328125 \r\nQ 55.078125 49.078125 51.53125 44.71875 \r\nQ 48 40.375 41.703125 38.8125 \r\nQ 48.828125 37.15625 52.796875 32.3125 \r\nQ 56.78125 27.484375 56.78125 20.515625 \r\nQ 56.78125 9.90625 50.3125 4.234375 \r\nQ 43.84375 -1.421875 31.78125 -1.421875 \r\nQ 19.734375 -1.421875 13.25 4.234375 \r\nQ 6.78125 9.90625 6.78125 20.515625 \r\nQ 6.78125 27.484375 10.78125 32.3125 \r\nQ 14.796875 37.15625 21.921875 38.8125 \r\nz\r\nM 18.3125 54.390625 \r\nQ 18.3125 48.734375 21.84375 45.5625 \r\nQ 25.390625 42.390625 31.78125 42.390625 \r\nQ 38.140625 42.390625 41.71875 45.5625 \r\nQ 45.3125 48.734375 45.3125 54.390625 \r\nQ 45.3125 60.0625 41.71875 63.234375 \r\nQ 38.140625 66.40625 31.78125 66.40625 \r\nQ 25.390625 66.40625 21.84375 63.234375 \r\nQ 18.3125 60.0625 18.3125 54.390625 \r\nz\r\n\" id=\"DejaVuSans-56\"/>\r\n      </defs>\r\n      <g transform=\"translate(295.406095 254.356562)scale(0.1 -0.1)\">\r\n       <use xlink:href=\"#DejaVuSans-56\"/>\r\n       <use x=\"63.623047\" xlink:href=\"#DejaVuSans-48\"/>\r\n       <use x=\"127.246094\" xlink:href=\"#DejaVuSans-48\"/>\r\n      </g>\r\n     </g>\r\n    </g>\r\n    <g id=\"xtick_6\">\r\n     <g id=\"line2d_6\">\r\n      <g>\r\n       <use style=\"stroke:#000000;stroke-width:0.8;\" x=\"366.437448\" xlink:href=\"#m6406a2cfce\" y=\"239.758125\"/>\r\n      </g>\r\n     </g>\r\n     <g id=\"text_6\">\r\n      <!-- 1000 -->\r\n      <defs>\r\n       <path d=\"M 12.40625 8.296875 \r\nL 28.515625 8.296875 \r\nL 28.515625 63.921875 \r\nL 10.984375 60.40625 \r\nL 10.984375 69.390625 \r\nL 28.421875 72.90625 \r\nL 38.28125 72.90625 \r\nL 38.28125 8.296875 \r\nL 54.390625 8.296875 \r\nL 54.390625 0 \r\nL 12.40625 0 \r\nz\r\n\" id=\"DejaVuSans-49\"/>\r\n      </defs>\r\n      <g transform=\"translate(353.712448 254.356562)scale(0.1 -0.1)\">\r\n       <use xlink:href=\"#DejaVuSans-49\"/>\r\n       <use x=\"63.623047\" xlink:href=\"#DejaVuSans-48\"/>\r\n       <use x=\"127.246094\" xlink:href=\"#DejaVuSans-48\"/>\r\n       <use x=\"190.869141\" xlink:href=\"#DejaVuSans-48\"/>\r\n      </g>\r\n     </g>\r\n    </g>\r\n    <g id=\"text_7\">\r\n     <!-- count -->\r\n     <defs>\r\n      <path d=\"M 48.78125 52.59375 \r\nL 48.78125 44.1875 \r\nQ 44.96875 46.296875 41.140625 47.34375 \r\nQ 37.3125 48.390625 33.40625 48.390625 \r\nQ 24.65625 48.390625 19.8125 42.84375 \r\nQ 14.984375 37.3125 14.984375 27.296875 \r\nQ 14.984375 17.28125 19.8125 11.734375 \r\nQ 24.65625 6.203125 33.40625 6.203125 \r\nQ 37.3125 6.203125 41.140625 7.25 \r\nQ 44.96875 8.296875 48.78125 10.40625 \r\nL 48.78125 2.09375 \r\nQ 45.015625 0.34375 40.984375 -0.53125 \r\nQ 36.96875 -1.421875 32.421875 -1.421875 \r\nQ 20.0625 -1.421875 12.78125 6.34375 \r\nQ 5.515625 14.109375 5.515625 27.296875 \r\nQ 5.515625 40.671875 12.859375 48.328125 \r\nQ 20.21875 56 33.015625 56 \r\nQ 37.15625 56 41.109375 55.140625 \r\nQ 45.0625 54.296875 48.78125 52.59375 \r\nz\r\n\" id=\"DejaVuSans-99\"/>\r\n      <path d=\"M 30.609375 48.390625 \r\nQ 23.390625 48.390625 19.1875 42.75 \r\nQ 14.984375 37.109375 14.984375 27.296875 \r\nQ 14.984375 17.484375 19.15625 11.84375 \r\nQ 23.34375 6.203125 30.609375 6.203125 \r\nQ 37.796875 6.203125 41.984375 11.859375 \r\nQ 46.1875 17.53125 46.1875 27.296875 \r\nQ 46.1875 37.015625 41.984375 42.703125 \r\nQ 37.796875 48.390625 30.609375 48.390625 \r\nz\r\nM 30.609375 56 \r\nQ 42.328125 56 49.015625 48.375 \r\nQ 55.71875 40.765625 55.71875 27.296875 \r\nQ 55.71875 13.875 49.015625 6.21875 \r\nQ 42.328125 -1.421875 30.609375 -1.421875 \r\nQ 18.84375 -1.421875 12.171875 6.21875 \r\nQ 5.515625 13.875 5.515625 27.296875 \r\nQ 5.515625 40.765625 12.171875 48.375 \r\nQ 18.84375 56 30.609375 56 \r\nz\r\n\" id=\"DejaVuSans-111\"/>\r\n      <path d=\"M 8.5 21.578125 \r\nL 8.5 54.6875 \r\nL 17.484375 54.6875 \r\nL 17.484375 21.921875 \r\nQ 17.484375 14.15625 20.5 10.265625 \r\nQ 23.53125 6.390625 29.59375 6.390625 \r\nQ 36.859375 6.390625 41.078125 11.03125 \r\nQ 45.3125 15.671875 45.3125 23.6875 \r\nL 45.3125 54.6875 \r\nL 54.296875 54.6875 \r\nL 54.296875 0 \r\nL 45.3125 0 \r\nL 45.3125 8.40625 \r\nQ 42.046875 3.421875 37.71875 1 \r\nQ 33.40625 -1.421875 27.6875 -1.421875 \r\nQ 18.265625 -1.421875 13.375 4.4375 \r\nQ 8.5 10.296875 8.5 21.578125 \r\nz\r\nM 31.109375 56 \r\nz\r\n\" id=\"DejaVuSans-117\"/>\r\n      <path d=\"M 54.890625 33.015625 \r\nL 54.890625 0 \r\nL 45.90625 0 \r\nL 45.90625 32.71875 \r\nQ 45.90625 40.484375 42.875 44.328125 \r\nQ 39.84375 48.1875 33.796875 48.1875 \r\nQ 26.515625 48.1875 22.3125 43.546875 \r\nQ 18.109375 38.921875 18.109375 30.90625 \r\nL 18.109375 0 \r\nL 9.078125 0 \r\nL 9.078125 54.6875 \r\nL 18.109375 54.6875 \r\nL 18.109375 46.1875 \r\nQ 21.34375 51.125 25.703125 53.5625 \r\nQ 30.078125 56 35.796875 56 \r\nQ 45.21875 56 50.046875 50.171875 \r\nQ 54.890625 44.34375 54.890625 33.015625 \r\nz\r\n\" id=\"DejaVuSans-110\"/>\r\n      <path d=\"M 18.3125 70.21875 \r\nL 18.3125 54.6875 \r\nL 36.8125 54.6875 \r\nL 36.8125 47.703125 \r\nL 18.3125 47.703125 \r\nL 18.3125 18.015625 \r\nQ 18.3125 11.328125 20.140625 9.421875 \r\nQ 21.96875 7.515625 27.59375 7.515625 \r\nL 36.8125 7.515625 \r\nL 36.8125 0 \r\nL 27.59375 0 \r\nQ 17.1875 0 13.234375 3.875 \r\nQ 9.28125 7.765625 9.28125 18.015625 \r\nL 9.28125 47.703125 \r\nL 2.6875 47.703125 \r\nL 2.6875 54.6875 \r\nL 9.28125 54.6875 \r\nL 9.28125 70.21875 \r\nz\r\n\" id=\"DejaVuSans-116\"/>\r\n     </defs>\r\n     <g transform=\"translate(197.075 268.034687)scale(0.1 -0.1)\">\r\n      <use xlink:href=\"#DejaVuSans-99\"/>\r\n      <use x=\"54.980469\" xlink:href=\"#DejaVuSans-111\"/>\r\n      <use x=\"116.162109\" xlink:href=\"#DejaVuSans-117\"/>\r\n      <use x=\"179.541016\" xlink:href=\"#DejaVuSans-110\"/>\r\n      <use x=\"242.919922\" xlink:href=\"#DejaVuSans-116\"/>\r\n     </g>\r\n    </g>\r\n   </g>\r\n   <g id=\"matplotlib.axis_2\">\r\n    <g id=\"ytick_1\">\r\n     <g id=\"line2d_7\">\r\n      <defs>\r\n       <path d=\"M 0 0 \r\nL -3.5 0 \r\n\" id=\"m776bef5fc9\" style=\"stroke:#000000;stroke-width:0.8;\"/>\r\n      </defs>\r\n      <g>\r\n       <use style=\"stroke:#000000;stroke-width:0.8;\" x=\"43.78125\" xlink:href=\"#m776bef5fc9\" y=\"239.758125\"/>\r\n      </g>\r\n     </g>\r\n     <g id=\"text_8\">\r\n      <!-- 0.0 -->\r\n      <defs>\r\n       <path d=\"M 10.6875 12.40625 \r\nL 21 12.40625 \r\nL 21 0 \r\nL 10.6875 0 \r\nz\r\n\" id=\"DejaVuSans-46\"/>\r\n      </defs>\r\n      <g transform=\"translate(20.878125 243.557344)scale(0.1 -0.1)\">\r\n       <use xlink:href=\"#DejaVuSans-48\"/>\r\n       <use x=\"63.623047\" xlink:href=\"#DejaVuSans-46\"/>\r\n       <use x=\"95.410156\" xlink:href=\"#DejaVuSans-48\"/>\r\n      </g>\r\n     </g>\r\n    </g>\r\n    <g id=\"ytick_2\">\r\n     <g id=\"line2d_8\">\r\n      <g>\r\n       <use style=\"stroke:#000000;stroke-width:0.8;\" x=\"43.78125\" xlink:href=\"#m776bef5fc9\" y=\"196.270125\"/>\r\n      </g>\r\n     </g>\r\n     <g id=\"text_9\">\r\n      <!-- 0.2 -->\r\n      <g transform=\"translate(20.878125 200.069344)scale(0.1 -0.1)\">\r\n       <use xlink:href=\"#DejaVuSans-48\"/>\r\n       <use x=\"63.623047\" xlink:href=\"#DejaVuSans-46\"/>\r\n       <use x=\"95.410156\" xlink:href=\"#DejaVuSans-50\"/>\r\n      </g>\r\n     </g>\r\n    </g>\r\n    <g id=\"ytick_3\">\r\n     <g id=\"line2d_9\">\r\n      <g>\r\n       <use style=\"stroke:#000000;stroke-width:0.8;\" x=\"43.78125\" xlink:href=\"#m776bef5fc9\" y=\"152.782125\"/>\r\n      </g>\r\n     </g>\r\n     <g id=\"text_10\">\r\n      <!-- 0.4 -->\r\n      <g transform=\"translate(20.878125 156.581344)scale(0.1 -0.1)\">\r\n       <use xlink:href=\"#DejaVuSans-48\"/>\r\n       <use x=\"63.623047\" xlink:href=\"#DejaVuSans-46\"/>\r\n       <use x=\"95.410156\" xlink:href=\"#DejaVuSans-52\"/>\r\n      </g>\r\n     </g>\r\n    </g>\r\n    <g id=\"ytick_4\">\r\n     <g id=\"line2d_10\">\r\n      <g>\r\n       <use style=\"stroke:#000000;stroke-width:0.8;\" x=\"43.78125\" xlink:href=\"#m776bef5fc9\" y=\"109.294125\"/>\r\n      </g>\r\n     </g>\r\n     <g id=\"text_11\">\r\n      <!-- 0.6 -->\r\n      <g transform=\"translate(20.878125 113.093344)scale(0.1 -0.1)\">\r\n       <use xlink:href=\"#DejaVuSans-48\"/>\r\n       <use x=\"63.623047\" xlink:href=\"#DejaVuSans-46\"/>\r\n       <use x=\"95.410156\" xlink:href=\"#DejaVuSans-54\"/>\r\n      </g>\r\n     </g>\r\n    </g>\r\n    <g id=\"ytick_5\">\r\n     <g id=\"line2d_11\">\r\n      <g>\r\n       <use style=\"stroke:#000000;stroke-width:0.8;\" x=\"43.78125\" xlink:href=\"#m776bef5fc9\" y=\"65.806125\"/>\r\n      </g>\r\n     </g>\r\n     <g id=\"text_12\">\r\n      <!-- 0.8 -->\r\n      <g transform=\"translate(20.878125 69.605344)scale(0.1 -0.1)\">\r\n       <use xlink:href=\"#DejaVuSans-48\"/>\r\n       <use x=\"63.623047\" xlink:href=\"#DejaVuSans-46\"/>\r\n       <use x=\"95.410156\" xlink:href=\"#DejaVuSans-56\"/>\r\n      </g>\r\n     </g>\r\n    </g>\r\n    <g id=\"ytick_6\">\r\n     <g id=\"line2d_12\">\r\n      <g>\r\n       <use style=\"stroke:#000000;stroke-width:0.8;\" x=\"43.78125\" xlink:href=\"#m776bef5fc9\" y=\"22.318125\"/>\r\n      </g>\r\n     </g>\r\n     <g id=\"text_13\">\r\n      <!-- 1.0 -->\r\n      <g transform=\"translate(20.878125 26.117344)scale(0.1 -0.1)\">\r\n       <use xlink:href=\"#DejaVuSans-49\"/>\r\n       <use x=\"63.623047\" xlink:href=\"#DejaVuSans-46\"/>\r\n       <use x=\"95.410156\" xlink:href=\"#DejaVuSans-48\"/>\r\n      </g>\r\n     </g>\r\n    </g>\r\n    <g id=\"text_14\">\r\n     <!-- accuracy -->\r\n     <defs>\r\n      <path d=\"M 34.28125 27.484375 \r\nQ 23.390625 27.484375 19.1875 25 \r\nQ 14.984375 22.515625 14.984375 16.5 \r\nQ 14.984375 11.71875 18.140625 8.90625 \r\nQ 21.296875 6.109375 26.703125 6.109375 \r\nQ 34.1875 6.109375 38.703125 11.40625 \r\nQ 43.21875 16.703125 43.21875 25.484375 \r\nL 43.21875 27.484375 \r\nz\r\nM 52.203125 31.203125 \r\nL 52.203125 0 \r\nL 43.21875 0 \r\nL 43.21875 8.296875 \r\nQ 40.140625 3.328125 35.546875 0.953125 \r\nQ 30.953125 -1.421875 24.3125 -1.421875 \r\nQ 15.921875 -1.421875 10.953125 3.296875 \r\nQ 6 8.015625 6 15.921875 \r\nQ 6 25.140625 12.171875 29.828125 \r\nQ 18.359375 34.515625 30.609375 34.515625 \r\nL 43.21875 34.515625 \r\nL 43.21875 35.40625 \r\nQ 43.21875 41.609375 39.140625 45 \r\nQ 35.0625 48.390625 27.6875 48.390625 \r\nQ 23 48.390625 18.546875 47.265625 \r\nQ 14.109375 46.140625 10.015625 43.890625 \r\nL 10.015625 52.203125 \r\nQ 14.9375 54.109375 19.578125 55.046875 \r\nQ 24.21875 56 28.609375 56 \r\nQ 40.484375 56 46.34375 49.84375 \r\nQ 52.203125 43.703125 52.203125 31.203125 \r\nz\r\n\" id=\"DejaVuSans-97\"/>\r\n      <path d=\"M 41.109375 46.296875 \r\nQ 39.59375 47.171875 37.8125 47.578125 \r\nQ 36.03125 48 33.890625 48 \r\nQ 26.265625 48 22.1875 43.046875 \r\nQ 18.109375 38.09375 18.109375 28.8125 \r\nL 18.109375 0 \r\nL 9.078125 0 \r\nL 9.078125 54.6875 \r\nL 18.109375 54.6875 \r\nL 18.109375 46.1875 \r\nQ 20.953125 51.171875 25.484375 53.578125 \r\nQ 30.03125 56 36.53125 56 \r\nQ 37.453125 56 38.578125 55.875 \r\nQ 39.703125 55.765625 41.0625 55.515625 \r\nz\r\n\" id=\"DejaVuSans-114\"/>\r\n      <path d=\"M 32.171875 -5.078125 \r\nQ 28.375 -14.84375 24.75 -17.8125 \r\nQ 21.140625 -20.796875 15.09375 -20.796875 \r\nL 7.90625 -20.796875 \r\nL 7.90625 -13.28125 \r\nL 13.1875 -13.28125 \r\nQ 16.890625 -13.28125 18.9375 -11.515625 \r\nQ 21 -9.765625 23.484375 -3.21875 \r\nL 25.09375 0.875 \r\nL 2.984375 54.6875 \r\nL 12.5 54.6875 \r\nL 29.59375 11.921875 \r\nL 46.6875 54.6875 \r\nL 56.203125 54.6875 \r\nz\r\n\" id=\"DejaVuSans-121\"/>\r\n     </defs>\r\n     <g transform=\"translate(14.798438 153.5975)rotate(-90)scale(0.1 -0.1)\">\r\n      <use xlink:href=\"#DejaVuSans-97\"/>\r\n      <use x=\"61.279297\" xlink:href=\"#DejaVuSans-99\"/>\r\n      <use x=\"116.259766\" xlink:href=\"#DejaVuSans-99\"/>\r\n      <use x=\"171.240234\" xlink:href=\"#DejaVuSans-117\"/>\r\n      <use x=\"234.619141\" xlink:href=\"#DejaVuSans-114\"/>\r\n      <use x=\"275.732422\" xlink:href=\"#DejaVuSans-97\"/>\r\n      <use x=\"337.011719\" xlink:href=\"#DejaVuSans-99\"/>\r\n      <use x=\"391.992188\" xlink:href=\"#DejaVuSans-121\"/>\r\n     </g>\r\n    </g>\r\n   </g>\r\n   <g id=\"line2d_13\">\r\n    <path clip-path=\"url(#p9c88d851a5)\" d=\"M 58.999432 193.834797 \r\nL 62.073812 102.727437 \r\nL 65.148192 77.373933 \r\nL 68.222572 68.893773 \r\nL 71.296952 59.326413 \r\nL 74.371333 54.151341 \r\nL 77.445713 53.064141 \r\nL 80.520093 49.324173 \r\nL 83.594473 47.889069 \r\nL 86.668853 46.366989 \r\nL 89.743233 45.671181 \r\nL 92.817614 44.279565 \r\nL 95.891994 43.888173 \r\nL 98.966374 42.409581 \r\nL 102.040754 45.149325 \r\nL 105.115134 42.844461 \r\nL 108.189514 40.017741 \r\nL 111.263895 41.974701 \r\nL 114.338275 43.757709 \r\nL 117.412655 39.234957 \r\nL 120.487035 42.235629 \r\nL 123.561415 38.147757 \r\nL 126.635795 38.669613 \r\nL 129.710176 36.321261 \r\nL 132.784556 37.321485 \r\nL 135.858936 41.409357 \r\nL 138.933316 39.452397 \r\nL 142.007696 37.495437 \r\nL 145.082076 36.060333 \r\nL 148.156457 36.451725 \r\nL 151.230837 35.234061 \r\nL 154.305217 34.755693 \r\nL 157.379597 33.538029 \r\nL 160.453977 33.016173 \r\nL 163.528357 32.537805 \r\nL 166.602738 32.189901 \r\nL 169.677118 31.972461 \r\nL 172.751498 31.320141 \r\nL 175.825878 31.102701 \r\nL 178.900258 31.146189 \r\nL 181.974638 30.406893 \r\nL 185.049019 30.058989 \r\nL 188.123399 30.145965 \r\nL 191.197779 30.711309 \r\nL 194.272159 32.102925 \r\nL 197.346539 30.102477 \r\nL 200.420919 29.189229 \r\nL 203.4953 29.537133 \r\nL 206.56968 30.058989 \r\nL 209.64406 29.537133 \r\nL 212.71844 28.971789 \r\nL 215.79282 29.406669 \r\nL 218.8672 27.841101 \r\nL 221.941581 27.319245 \r\nL 225.015961 27.493197 \r\nL 228.090341 27.014829 \r\nL 231.164721 27.188781 \r\nL 234.239101 26.927853 \r\nL 237.313481 27.536685 \r\nL 240.387862 26.405997 \r\nL 243.462242 27.014829 \r\nL 246.536622 26.666925 \r\nL 249.611002 26.232045 \r\nL 252.685382 25.927629 \r\nL 255.759762 25.927629 \r\nL 258.834143 26.014605 \r\nL 261.908523 26.319021 \r\nL 264.982903 25.536237 \r\nL 268.057283 25.449261 \r\nL 271.131663 25.579725 \r\nL 274.206043 25.188333 \r\nL 277.280424 25.971117 \r\nL 280.354804 25.927629 \r\nL 283.429184 25.492749 \r\nL 286.503564 24.883917 \r\nL 289.577944 25.275309 \r\nL 292.652324 24.622989 \r\nL 295.726705 24.492525 \r\nL 298.801085 24.536013 \r\nL 301.875465 24.275085 \r\nL 304.949845 24.753453 \r\nL 308.024225 24.449037 \r\nL 311.098605 24.014157 \r\nL 314.172986 23.796717 \r\nL 317.247366 24.231597 \r\nL 320.321746 23.840205 \r\nL 323.396126 24.231597 \r\nL 326.470506 23.709741 \r\nL 329.544886 23.666253 \r\nL 332.619267 24.188109 \r\nL 335.693647 24.492525 \r\nL 338.768027 25.405773 \r\nL 341.842407 24.492525 \r\nL 344.916787 23.753229 \r\nL 347.991167 23.927181 \r\nL 351.065548 23.753229 \r\nL 354.139928 23.579277 \r\nL 357.214308 23.405325 \r\nL 360.288688 23.405325 \r\nL 363.363068 23.883693 \r\n\" style=\"fill:none;stroke:#1f77b4;stroke-linecap:square;stroke-width:1.5;\"/>\r\n   </g>\r\n   <g id=\"line2d_14\">\r\n    <path clip-path=\"url(#p9c88d851a5)\" d=\"M 58.999432 189.094605 \r\nL 62.073812 107.337165 \r\nL 65.148192 88.202445 \r\nL 68.222572 78.635085 \r\nL 71.296952 66.675885 \r\nL 74.371333 60.805005 \r\nL 77.445713 59.500365 \r\nL 80.520093 53.846925 \r\nL 83.594473 53.194605 \r\nL 86.668853 51.672525 \r\nL 89.743233 50.585325 \r\nL 92.817614 49.063245 \r\nL 95.891994 50.150445 \r\nL 98.966374 49.933005 \r\nL 102.040754 50.585325 \r\nL 105.115134 49.498125 \r\nL 108.189514 47.541165 \r\nL 111.263895 49.933005 \r\nL 114.338275 49.063245 \r\nL 117.412655 48.845805 \r\nL 120.487035 49.715565 \r\nL 123.561415 45.366765 \r\nL 126.635795 46.671405 \r\nL 129.710176 43.409805 \r\nL 132.784556 45.149325 \r\nL 135.858936 46.888845 \r\nL 138.933316 46.236525 \r\nL 142.007696 44.714445 \r\nL 145.082076 41.670285 \r\nL 148.156457 42.540045 \r\nL 151.230837 40.365645 \r\nL 154.305217 39.930765 \r\nL 157.379597 40.148205 \r\nL 160.453977 39.061005 \r\nL 163.528357 40.583085 \r\nL 166.602738 39.713325 \r\nL 169.677118 39.930765 \r\nL 172.751498 38.843565 \r\nL 175.825878 39.061005 \r\nL 178.900258 37.973805 \r\nL 181.974638 38.191245 \r\nL 185.049019 38.191245 \r\nL 188.123399 37.538925 \r\nL 191.197779 38.626125 \r\nL 194.272159 40.800525 \r\nL 197.346539 37.756365 \r\nL 200.420919 37.104045 \r\nL 203.4953 37.321485 \r\nL 206.56968 38.191245 \r\nL 209.64406 37.104045 \r\nL 212.71844 37.104045 \r\nL 215.79282 37.104045 \r\nL 218.8672 34.712205 \r\nL 221.941581 36.234285 \r\nL 225.015961 34.494765 \r\nL 228.090341 33.842445 \r\nL 231.164721 35.364525 \r\nL 234.239101 34.929645 \r\nL 237.313481 33.842445 \r\nL 240.387862 35.147085 \r\nL 243.462242 34.494765 \r\nL 246.536622 33.625005 \r\nL 249.611002 33.190125 \r\nL 252.685382 32.537805 \r\nL 255.759762 33.407565 \r\nL 258.834143 32.972685 \r\nL 261.908523 33.407565 \r\nL 264.982903 33.842445 \r\nL 268.057283 33.407565 \r\nL 271.131663 32.972685 \r\nL 274.206043 32.102925 \r\nL 277.280424 34.059885 \r\nL 280.354804 34.277325 \r\nL 283.429184 32.537805 \r\nL 286.503564 32.537805 \r\nL 289.577944 33.190125 \r\nL 292.652324 31.668045 \r\nL 295.726705 31.885485 \r\nL 298.801085 31.668045 \r\nL 301.875465 31.885485 \r\nL 304.949845 32.755245 \r\nL 308.024225 32.320365 \r\nL 311.098605 32.320365 \r\nL 314.172986 31.885485 \r\nL 317.247366 32.972685 \r\nL 320.321746 31.015725 \r\nL 323.396126 31.450605 \r\nL 326.470506 31.885485 \r\nL 329.544886 32.102925 \r\nL 332.619267 30.798285 \r\nL 335.693647 31.885485 \r\nL 338.768027 32.537805 \r\nL 341.842407 30.580845 \r\nL 344.916787 32.320365 \r\nL 347.991167 30.798285 \r\nL 351.065548 32.972685 \r\nL 354.139928 31.668045 \r\nL 357.214308 31.668045 \r\nL 360.288688 31.668045 \r\nL 363.363068 31.233165 \r\n\" style=\"fill:none;stroke:#ff7f0e;stroke-linecap:square;stroke-width:1.5;\"/>\r\n   </g>\r\n   <g id=\"patch_3\">\r\n    <path d=\"M 43.78125 239.758125 \r\nL 43.78125 22.318125 \r\n\" style=\"fill:none;stroke:#000000;stroke-linecap:square;stroke-linejoin:miter;stroke-width:0.8;\"/>\r\n   </g>\r\n   <g id=\"patch_4\">\r\n    <path d=\"M 378.58125 239.758125 \r\nL 378.58125 22.318125 \r\n\" style=\"fill:none;stroke:#000000;stroke-linecap:square;stroke-linejoin:miter;stroke-width:0.8;\"/>\r\n   </g>\r\n   <g id=\"patch_5\">\r\n    <path d=\"M 43.78125 239.758125 \r\nL 378.58125 239.758125 \r\n\" style=\"fill:none;stroke:#000000;stroke-linecap:square;stroke-linejoin:miter;stroke-width:0.8;\"/>\r\n   </g>\r\n   <g id=\"patch_6\">\r\n    <path d=\"M 43.78125 22.318125 \r\nL 378.58125 22.318125 \r\n\" style=\"fill:none;stroke:#000000;stroke-linecap:square;stroke-linejoin:miter;stroke-width:0.8;\"/>\r\n   </g>\r\n   <g id=\"text_15\">\r\n    <!-- accuracy -->\r\n    <g transform=\"translate(184.11 16.318125)scale(0.12 -0.12)\">\r\n     <use xlink:href=\"#DejaVuSans-97\"/>\r\n     <use x=\"61.279297\" xlink:href=\"#DejaVuSans-99\"/>\r\n     <use x=\"116.259766\" xlink:href=\"#DejaVuSans-99\"/>\r\n     <use x=\"171.240234\" xlink:href=\"#DejaVuSans-117\"/>\r\n     <use x=\"234.619141\" xlink:href=\"#DejaVuSans-114\"/>\r\n     <use x=\"275.732422\" xlink:href=\"#DejaVuSans-97\"/>\r\n     <use x=\"337.011719\" xlink:href=\"#DejaVuSans-99\"/>\r\n     <use x=\"391.992188\" xlink:href=\"#DejaVuSans-121\"/>\r\n    </g>\r\n   </g>\r\n   <g id=\"legend_1\">\r\n    <g id=\"patch_7\">\r\n     <path d=\"M 282.38125 234.758125 \r\nL 371.58125 234.758125 \r\nQ 373.58125 234.758125 373.58125 232.758125 \r\nL 373.58125 204.401875 \r\nQ 373.58125 202.401875 371.58125 202.401875 \r\nL 282.38125 202.401875 \r\nQ 280.38125 202.401875 280.38125 204.401875 \r\nL 280.38125 232.758125 \r\nQ 280.38125 234.758125 282.38125 234.758125 \r\nz\r\n\" style=\"fill:#ffffff;opacity:0.8;stroke:#cccccc;stroke-linejoin:miter;\"/>\r\n    </g>\r\n    <g id=\"line2d_15\">\r\n     <path d=\"M 284.38125 210.500312 \r\nL 304.38125 210.500312 \r\n\" style=\"fill:none;stroke:#1f77b4;stroke-linecap:square;stroke-width:1.5;\"/>\r\n    </g>\r\n    <g id=\"line2d_16\"/>\r\n    <g id=\"text_16\">\r\n     <!-- training set -->\r\n     <defs>\r\n      <path d=\"M 9.421875 54.6875 \r\nL 18.40625 54.6875 \r\nL 18.40625 0 \r\nL 9.421875 0 \r\nz\r\nM 9.421875 75.984375 \r\nL 18.40625 75.984375 \r\nL 18.40625 64.59375 \r\nL 9.421875 64.59375 \r\nz\r\n\" id=\"DejaVuSans-105\"/>\r\n      <path d=\"M 45.40625 27.984375 \r\nQ 45.40625 37.75 41.375 43.109375 \r\nQ 37.359375 48.484375 30.078125 48.484375 \r\nQ 22.859375 48.484375 18.828125 43.109375 \r\nQ 14.796875 37.75 14.796875 27.984375 \r\nQ 14.796875 18.265625 18.828125 12.890625 \r\nQ 22.859375 7.515625 30.078125 7.515625 \r\nQ 37.359375 7.515625 41.375 12.890625 \r\nQ 45.40625 18.265625 45.40625 27.984375 \r\nz\r\nM 54.390625 6.78125 \r\nQ 54.390625 -7.171875 48.1875 -13.984375 \r\nQ 42 -20.796875 29.203125 -20.796875 \r\nQ 24.46875 -20.796875 20.265625 -20.09375 \r\nQ 16.0625 -19.390625 12.109375 -17.921875 \r\nL 12.109375 -9.1875 \r\nQ 16.0625 -11.328125 19.921875 -12.34375 \r\nQ 23.78125 -13.375 27.78125 -13.375 \r\nQ 36.625 -13.375 41.015625 -8.765625 \r\nQ 45.40625 -4.15625 45.40625 5.171875 \r\nL 45.40625 9.625 \r\nQ 42.625 4.78125 38.28125 2.390625 \r\nQ 33.9375 0 27.875 0 \r\nQ 17.828125 0 11.671875 7.65625 \r\nQ 5.515625 15.328125 5.515625 27.984375 \r\nQ 5.515625 40.671875 11.671875 48.328125 \r\nQ 17.828125 56 27.875 56 \r\nQ 33.9375 56 38.28125 53.609375 \r\nQ 42.625 51.21875 45.40625 46.390625 \r\nL 45.40625 54.6875 \r\nL 54.390625 54.6875 \r\nz\r\n\" id=\"DejaVuSans-103\"/>\r\n      <path id=\"DejaVuSans-32\"/>\r\n      <path d=\"M 44.28125 53.078125 \r\nL 44.28125 44.578125 \r\nQ 40.484375 46.53125 36.375 47.5 \r\nQ 32.28125 48.484375 27.875 48.484375 \r\nQ 21.1875 48.484375 17.84375 46.4375 \r\nQ 14.5 44.390625 14.5 40.28125 \r\nQ 14.5 37.15625 16.890625 35.375 \r\nQ 19.28125 33.59375 26.515625 31.984375 \r\nL 29.59375 31.296875 \r\nQ 39.15625 29.25 43.1875 25.515625 \r\nQ 47.21875 21.78125 47.21875 15.09375 \r\nQ 47.21875 7.46875 41.1875 3.015625 \r\nQ 35.15625 -1.421875 24.609375 -1.421875 \r\nQ 20.21875 -1.421875 15.453125 -0.5625 \r\nQ 10.6875 0.296875 5.421875 2 \r\nL 5.421875 11.28125 \r\nQ 10.40625 8.6875 15.234375 7.390625 \r\nQ 20.0625 6.109375 24.8125 6.109375 \r\nQ 31.15625 6.109375 34.5625 8.28125 \r\nQ 37.984375 10.453125 37.984375 14.40625 \r\nQ 37.984375 18.0625 35.515625 20.015625 \r\nQ 33.0625 21.96875 24.703125 23.78125 \r\nL 21.578125 24.515625 \r\nQ 13.234375 26.265625 9.515625 29.90625 \r\nQ 5.8125 33.546875 5.8125 39.890625 \r\nQ 5.8125 47.609375 11.28125 51.796875 \r\nQ 16.75 56 26.8125 56 \r\nQ 31.78125 56 36.171875 55.265625 \r\nQ 40.578125 54.546875 44.28125 53.078125 \r\nz\r\n\" id=\"DejaVuSans-115\"/>\r\n      <path d=\"M 56.203125 29.59375 \r\nL 56.203125 25.203125 \r\nL 14.890625 25.203125 \r\nQ 15.484375 15.921875 20.484375 11.0625 \r\nQ 25.484375 6.203125 34.421875 6.203125 \r\nQ 39.59375 6.203125 44.453125 7.46875 \r\nQ 49.3125 8.734375 54.109375 11.28125 \r\nL 54.109375 2.78125 \r\nQ 49.265625 0.734375 44.1875 -0.34375 \r\nQ 39.109375 -1.421875 33.890625 -1.421875 \r\nQ 20.796875 -1.421875 13.15625 6.1875 \r\nQ 5.515625 13.8125 5.515625 26.8125 \r\nQ 5.515625 40.234375 12.765625 48.109375 \r\nQ 20.015625 56 32.328125 56 \r\nQ 43.359375 56 49.78125 48.890625 \r\nQ 56.203125 41.796875 56.203125 29.59375 \r\nz\r\nM 47.21875 32.234375 \r\nQ 47.125 39.59375 43.09375 43.984375 \r\nQ 39.0625 48.390625 32.421875 48.390625 \r\nQ 24.90625 48.390625 20.390625 44.140625 \r\nQ 15.875 39.890625 15.1875 32.171875 \r\nz\r\n\" id=\"DejaVuSans-101\"/>\r\n     </defs>\r\n     <g transform=\"translate(312.38125 214.000312)scale(0.1 -0.1)\">\r\n      <use xlink:href=\"#DejaVuSans-116\"/>\r\n      <use x=\"39.208984\" xlink:href=\"#DejaVuSans-114\"/>\r\n      <use x=\"80.322266\" xlink:href=\"#DejaVuSans-97\"/>\r\n      <use x=\"141.601562\" xlink:href=\"#DejaVuSans-105\"/>\r\n      <use x=\"169.384766\" xlink:href=\"#DejaVuSans-110\"/>\r\n      <use x=\"232.763672\" xlink:href=\"#DejaVuSans-105\"/>\r\n      <use x=\"260.546875\" xlink:href=\"#DejaVuSans-110\"/>\r\n      <use x=\"323.925781\" xlink:href=\"#DejaVuSans-103\"/>\r\n      <use x=\"387.402344\" xlink:href=\"#DejaVuSans-32\"/>\r\n      <use x=\"419.189453\" xlink:href=\"#DejaVuSans-115\"/>\r\n      <use x=\"471.289062\" xlink:href=\"#DejaVuSans-101\"/>\r\n      <use x=\"532.8125\" xlink:href=\"#DejaVuSans-116\"/>\r\n     </g>\r\n    </g>\r\n    <g id=\"line2d_17\">\r\n     <path d=\"M 284.38125 225.178437 \r\nL 304.38125 225.178437 \r\n\" style=\"fill:none;stroke:#ff7f0e;stroke-linecap:square;stroke-width:1.5;\"/>\r\n    </g>\r\n    <g id=\"line2d_18\"/>\r\n    <g id=\"text_17\">\r\n     <!-- test set -->\r\n     <g transform=\"translate(312.38125 228.678437)scale(0.1 -0.1)\">\r\n      <use xlink:href=\"#DejaVuSans-116\"/>\r\n      <use x=\"39.208984\" xlink:href=\"#DejaVuSans-101\"/>\r\n      <use x=\"100.732422\" xlink:href=\"#DejaVuSans-115\"/>\r\n      <use x=\"152.832031\" xlink:href=\"#DejaVuSans-116\"/>\r\n      <use x=\"192.041016\" xlink:href=\"#DejaVuSans-32\"/>\r\n      <use x=\"223.828125\" xlink:href=\"#DejaVuSans-115\"/>\r\n      <use x=\"275.927734\" xlink:href=\"#DejaVuSans-101\"/>\r\n      <use x=\"337.451172\" xlink:href=\"#DejaVuSans-116\"/>\r\n     </g>\r\n    </g>\r\n   </g>\r\n  </g>\r\n </g>\r\n <defs>\r\n  <clipPath id=\"p9c88d851a5\">\r\n   <rect height=\"217.44\" width=\"334.8\" x=\"43.78125\" y=\"22.318125\"/>\r\n  </clipPath>\r\n </defs>\r\n</svg>\r\n",
      "image/png": "[encoded data removed]"
     },
     "metadata": {
      "needs_background": "light"
     }
    }
   ],
   "source": [
    "from common import optimizer\n",
    "\n",
    "# データの読み込み\n",
    "(x_train, d_train), (x_test, d_test) = load_mnist(flatten=False)\n",
    "\n",
    "print(\"データ読み込み完了\")\n",
    "\n",
    "# 処理に時間のかかる場合はデータを削減 \n",
    "x_train, d_train = x_train[:5000], d_train[:5000]\n",
    "x_test, d_test = x_test[:1000], d_test[:1000]\n",
    "\n",
    "\n",
    "network = SimpleConvNet(input_dim=(1,28,28), \n",
    "                        conv_param = {'filter_num': 30, 'filter_size': 5, 'pad': 0, 'stride': 1},\n",
    "                        hidden_size=100, output_size=10, weight_init_std=0.01)\n",
    "\n",
    "optimizer = optimizer.Adam()\n",
    "\n",
    "iters_num = 1000\n",
    "train_size = x_train.shape[0]\n",
    "batch_size = 100\n",
    "\n",
    "train_loss_list = []\n",
    "accuracies_train = []\n",
    "accuracies_test = []\n",
    "\n",
    "plot_interval=10\n",
    "\n",
    "\n",
    "\n",
    "for i in range(iters_num):\n",
    "    batch_mask = np.random.choice(train_size, batch_size)\n",
    "    x_batch = x_train[batch_mask]\n",
    "    d_batch = d_train[batch_mask]\n",
    "    \n",
    "    grad = network.gradient(x_batch, d_batch)\n",
    "    optimizer.update(network.params, grad)\n",
    "\n",
    "    loss = network.loss(x_batch, d_batch)\n",
    "    train_loss_list.append(loss)\n",
    "\n",
    "    if (i+1) % plot_interval == 0:\n",
    "        accr_train = network.accuracy(x_train, d_train)\n",
    "        accr_test = network.accuracy(x_test, d_test)\n",
    "        accuracies_train.append(accr_train)\n",
    "        accuracies_test.append(accr_test)\n",
    "        \n",
    "        print('Generation: ' + str(i+1) + '. 正答率(トレーニング) = ' + str(accr_train))\n",
    "        print('                : ' + str(i+1) + '. 正答率(テスト) = ' + str(accr_test))               \n",
    "\n",
    "lists = range(0, iters_num, plot_interval)\n",
    "plt.plot(lists, accuracies_train, label=\"training set\")\n",
    "plt.plot(lists, accuracies_test,  label=\"test set\")\n",
    "plt.legend(loc=\"lower right\")\n",
    "plt.title(\"accuracy\")\n",
    "plt.xlabel(\"count\")\n",
    "plt.ylabel(\"accuracy\")\n",
    "plt.ylim(0, 1.0)\n",
    "# グラフの表示\n",
    "plt.show()"
   ]
  }
 ],
 "metadata": {
  "kernelspec": {
   "display_name": "Python 3",
   "language": "python",
   "name": "python3"
  },
  "language_info": {
   "codemirror_mode": {
    "name": "ipython",
    "version": 3
   },
   "file_extension": ".py",
   "mimetype": "text/x-python",
   "name": "python",
   "nbconvert_exporter": "python",
   "pygments_lexer": "ipython3",
   "version": "3.6.10-final"
  }
 },
 "nbformat": 4,
 "nbformat_minor": 2
}